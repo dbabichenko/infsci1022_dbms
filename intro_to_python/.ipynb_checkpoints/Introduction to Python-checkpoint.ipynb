{
 "cells": [
  {
   "cell_type": "markdown",
   "metadata": {},
   "source": [
    "# Introduction"
   ]
  },
  {
   "cell_type": "markdown",
   "metadata": {},
   "source": [
    "## Why do we care about Python?\n",
    "\n",
    "**Federalist papers**\n",
    "\n",
    "Alexander Hamilton, James Madison, or John Jay?  For more than 150 years, historians argued over the authorship of the 12 essays in _The Federalist Papers_. It wasn't until 1963 that the mystery was solved by Frederick Mosteller of Harvard University and David Wallace of the University of Chicago. [Nabokov's Favorite Word Is _Mauve_ by Ben Blatt]\n",
    "\n",
    "Full text of _The Federalist Papers_ is available at http://www.gutenberg.org/ebooks/1404"
   ]
  },
  {
   "cell_type": "code",
   "execution_count": null,
   "metadata": {
    "collapsed": true
   },
   "outputs": [],
   "source": [
    "# Path to our data file (source file)\n",
    "source_file_name = 'federalist_papers.txt'\n",
    "\n",
    "fed_papers_file = open(source_file_name, 'r')\n",
    "\n",
    "\n",
    "# We can read all text at once\n",
    "all_text = fed_papers_file.read()\n",
    "#print(all_text)"
   ]
  },
  {
   "cell_type": "code",
   "execution_count": null,
   "metadata": {
    "collapsed": true
   },
   "outputs": [],
   "source": [
    "# There are a couple of ways we could find frequencies of the words \"while\" and \"whilst\".  \n",
    "# For now, let's convert our chunk of text into a list of words\n",
    "\n",
    "word_list = all_text.split(\" \")"
   ]
  },
  {
   "cell_type": "code",
   "execution_count": null,
   "metadata": {
    "collapsed": true
   },
   "outputs": [],
   "source": [
    "# Will this work?  Are words always separated by spaces?\n",
    "# While there are better methods for dealing with text parsing (for example, nltk toolkit)\n",
    "# for now we'll take care of things in a quick and dirty way\n",
    "\n",
    "punctuation_marks = ['!','.', ',', ':', ';', '?', '-', '\\n']\n",
    "for pm in punctuation_marks:\n",
    "    all_text = all_text.replace(pm, ' ')\n",
    "                     \n",
    "# print(all_text)"
   ]
  },
  {
   "cell_type": "code",
   "execution_count": null,
   "metadata": {
    "collapsed": true
   },
   "outputs": [],
   "source": [
    "# It would be a good idea to convert everything to lower case before we do anything else\n",
    "all_text = all_text.lower()\n",
    "\n",
    "# Now let's build a list of words\n",
    "word_list = all_text.split(\" \")\n",
    "# print(word_list)"
   ]
  },
  {
   "cell_type": "code",
   "execution_count": null,
   "metadata": {
    "collapsed": true
   },
   "outputs": [],
   "source": [
    "# Now, let's find the frequency for \"while\"\n",
    "\n",
    "freq_while = 0\n",
    "freq_whilst = 0\n",
    "for word in word_list:\n",
    "    if word == \"while\":\n",
    "        freq_while = freq_while + 1\n",
    "    if word == \"whilst\":\n",
    "        freq_whilst = freq_whilst + 1\n",
    "        \n",
    "print(\"The frequency of 'while' is: \" + str(freq_while))\n",
    "print(\"The frequency of 'whilst' is: \" + str(freq_whilst))"
   ]
  },
  {
   "cell_type": "markdown",
   "metadata": {},
   "source": [
    "# Variables"
   ]
  },
  {
   "cell_type": "markdown",
   "metadata": {},
   "source": [
    "**Programming v/s math**\n",
    "\n",
    "_x = 1_\n",
    "\n",
    "* In math this means x is equal to 1\n",
    "* In programming this means the value 1 is stored in variable x\n",
    "\n",
    "_x = x + 1_\n",
    "\n",
    "* In math this is wrong\n",
    "* In programming this is perfectly valid\n",
    "\n"
   ]
  },
  {
   "cell_type": "markdown",
   "metadata": {},
   "source": [
    "**Variables in Python**\n",
    "\n",
    "* A Variable is a SPACE in memory where a VALUE can be stored\n",
    "* The VALUE can change - so it is variable ;)\n",
    "* In Python variable CAN change it’s TYPE\n"
   ]
  },
  {
   "cell_type": "code",
   "execution_count": null,
   "metadata": {
    "collapsed": true
   },
   "outputs": [],
   "source": [
    "x = 5  # x is a number\n",
    "x = 'Hello' # x is a string"
   ]
  },
  {
   "cell_type": "markdown",
   "metadata": {},
   "source": [
    "**Memory Allocation – a metaphor**\n",
    "\n",
    "\n",
    "<img src=\"images/variables/address.jpeg\" />\n",
    "\n",
    "The address _5818 Phillips Avenue, Pittsburgh, PA 15217_ maps to georgraphic coordinates of _40.432392,-79.922378_ -- it is essentially a label for a specific latitude and longitude.\n",
    "\n",
    "You can think of variables as labels for locations in memory where our data is stored."
   ]
  },
  {
   "cell_type": "code",
   "execution_count": null,
   "metadata": {
    "collapsed": true
   },
   "outputs": [],
   "source": [
    "# Integer Variables (int)\n",
    "x = 5 # x contains an integer 5\n",
    "x = x + 2\n",
    "x = x - 4 # What is the value of x now?\n",
    "print(x)"
   ]
  },
  {
   "cell_type": "code",
   "execution_count": null,
   "metadata": {
    "collapsed": true
   },
   "outputs": [],
   "source": [
    "# Floating Point Variables (float)\n",
    "x = 2.5\n",
    "y = 3.7521\n",
    "pi = 3.141592653589793238"
   ]
  },
  {
   "cell_type": "code",
   "execution_count": null,
   "metadata": {
    "collapsed": true
   },
   "outputs": [],
   "source": [
    "# Simple Mathematical Operations\n",
    "x = 5\n",
    "y = 10\n",
    "z = x + y # addition\n",
    "z = x - y # subtraction\n",
    "z = x * y # multiplication\n",
    "z = x / y # division\n",
    "z = x ** y # x to the power of y\n"
   ]
  },
  {
   "cell_type": "code",
   "execution_count": null,
   "metadata": {
    "collapsed": true
   },
   "outputs": [],
   "source": [
    "# String Variables \n",
    "name = \"Bob\"\n",
    "car = \"Ford Pinto\"\n",
    "address = '5818 Phillips Avenue, Pittsburgh, PA 15217'"
   ]
  },
  {
   "cell_type": "code",
   "execution_count": null,
   "metadata": {
    "collapsed": true
   },
   "outputs": [],
   "source": [
    "# Combining strings\n",
    "first_name = 'John'\n",
    "last_name = 'Doe'\n",
    "full_name = 'John' + ' ' + 'Doe'\n",
    "print(full_name)"
   ]
  },
  {
   "cell_type": "code",
   "execution_count": null,
   "metadata": {
    "collapsed": true
   },
   "outputs": [],
   "source": [
    "# Boolean variables\n",
    "x = True\n",
    "y = False"
   ]
  },
  {
   "cell_type": "markdown",
   "metadata": {},
   "source": [
    "**Boolean Truth Table**\n",
    "<img src='images/variables/truth_table.png' />"
   ]
  },
  {
   "cell_type": "code",
   "execution_count": null,
   "metadata": {
    "collapsed": true
   },
   "outputs": [],
   "source": [
    "# Typecasting: converting from one data type to another\n",
    "x = 5\n",
    "y = str(x) # Convert from integer to string\n",
    "\n",
    "x = '5'\n",
    "y = int(x) # Convert from string to integer\n",
    "\n",
    "x = '5'\n",
    "y = float(x) # Convert from a string to a decimal number\n",
    "\n"
   ]
  },
  {
   "cell_type": "markdown",
   "metadata": {},
   "source": [
    "**Exercise: Pythagorean Theorem**\n",
    "\n",
    "This program accepts two input values from the user, one for each\n",
    "side of a right-angle triangle.  The program uses the Pythagorean\n",
    "theorem (c^2 = a^2 + b^2) to calculate the length of the triangle's\n",
    "hypotenuse.\n"
   ]
  },
  {
   "cell_type": "code",
   "execution_count": null,
   "metadata": {
    "collapsed": true
   },
   "outputs": [],
   "source": [
    "# A module allows you to logically organize your Python code. Grouping related code into a module\n",
    "# makes the code easier to understand and use.\n",
    "# Simply, a module is a file consisting of Python code. A module can define functions, classes and variables.\n",
    "# A module can also include runnable code.\n",
    "# math module gives us access to special functions that perform mathematical operations, functions such as square root or power\n",
    "import math"
   ]
  },
  {
   "cell_type": "code",
   "execution_count": null,
   "metadata": {
    "collapsed": true
   },
   "outputs": [],
   "source": [
    "# Get user input for Side A\n",
    "inputSideA = input(\"Enter length of side A \")\n",
    "\n",
    "print(\"Side A: \" + str(inputSideA))"
   ]
  },
  {
   "cell_type": "code",
   "execution_count": null,
   "metadata": {
    "collapsed": true
   },
   "outputs": [],
   "source": [
    "# Get user input for Side B\n",
    "inputSideB = input(\"Enter length of side B \")\n",
    "\n",
    "print(\"Side B: \" + str(inputSideB))"
   ]
  },
  {
   "cell_type": "code",
   "execution_count": null,
   "metadata": {
    "collapsed": true
   },
   "outputs": [],
   "source": [
    "# Values entered through user input are stored as strings (String data type).  We need to\n",
    "# convert sides' lengths from String to float\n",
    "sideA = float(inputSideA)\n",
    "sideB = float(inputSideB)"
   ]
  },
  {
   "cell_type": "code",
   "execution_count": null,
   "metadata": {
    "collapsed": true
   },
   "outputs": [],
   "source": [
    "# Math.pow(a, b) is a function that takes the value of the first argument \"a\"\n",
    "# and raises it to the power of the second argument \"b\"\n",
    "\n",
    "# Calculate square of side A\n",
    "# Note that ** (double asterisk) is an exponent operand.  It performs exponential (power) calculation on operators\n",
    "squareSideA = sideA ** 2\n",
    "\n",
    "# Calculate square of side B\n",
    "squareSideB = sideB ** 2"
   ]
  },
  {
   "cell_type": "code",
   "execution_count": null,
   "metadata": {
    "collapsed": true
   },
   "outputs": [],
   "source": [
    "# Use Pythagorean theorem to calculate the length of the triangle's hypotenuse.\n",
    "# math.sqrt(a) function calculates the square root of the argument \"a\"\n",
    "hypotenuse = math.sqrt(squareSideA + squareSideB)\n"
   ]
  },
  {
   "cell_type": "code",
   "execution_count": null,
   "metadata": {
    "collapsed": true
   },
   "outputs": [],
   "source": [
    "# Print out the results\n",
    "print(\"Given that side A is \" + str(sideA) + \" and side B is \" + str(sideB) + \", the hypotenuse is \" + str(hypotenuse))"
   ]
  },
  {
   "cell_type": "markdown",
   "metadata": {},
   "source": [
    "## Challenge\n",
    "\n",
    "Modify the program to accept input for the lengths of one adjacent side and the hypotenuse of a right triangle. Calculate the second adjacent side."
   ]
  },
  {
   "cell_type": "markdown",
   "metadata": {},
   "source": [
    "**Step 1:** Get user input for Side A"
   ]
  },
  {
   "cell_type": "code",
   "execution_count": null,
   "metadata": {
    "collapsed": true
   },
   "outputs": [],
   "source": [
    "# Step 1 code\n",
    "inputSideA = input(\"Enter length of side A \")\n",
    "\n",
    "print(\"Side A: \" + str(inputSideA))"
   ]
  },
  {
   "cell_type": "markdown",
   "metadata": {},
   "source": [
    "**Step 2:** Get user input for Hypothenuse"
   ]
  },
  {
   "cell_type": "code",
   "execution_count": null,
   "metadata": {
    "collapsed": true
   },
   "outputs": [],
   "source": [
    "# Write Step 2 code here\n"
   ]
  },
  {
   "cell_type": "markdown",
   "metadata": {},
   "source": [
    "**Step 3:** Remember that values entered through user input are stored as strings (String data type).  You will need to convert sides' lengths from _String_ to _float_"
   ]
  },
  {
   "cell_type": "code",
   "execution_count": null,
   "metadata": {
    "collapsed": true
   },
   "outputs": [],
   "source": [
    "# Write Step 3 code here\n"
   ]
  },
  {
   "cell_type": "markdown",
   "metadata": {},
   "source": [
    "**Step 4:** Calculate squares of side A and of hypothenuse"
   ]
  },
  {
   "cell_type": "code",
   "execution_count": null,
   "metadata": {
    "collapsed": true
   },
   "outputs": [],
   "source": [
    "# Write Step 4 code here"
   ]
  },
  {
   "cell_type": "markdown",
   "metadata": {},
   "source": [
    "**Step 5:** Use Pythagorean theorem to calculate the length of Side B\n",
    "\n",
    "_Hint: Side B = square root of square of Hypotenuse - square of Side A)_\n"
   ]
  },
  {
   "cell_type": "code",
   "execution_count": null,
   "metadata": {
    "collapsed": true
   },
   "outputs": [],
   "source": [
    "# Write Step 5 code here"
   ]
  },
  {
   "cell_type": "markdown",
   "metadata": {},
   "source": [
    "**Step 6**: Print results"
   ]
  },
  {
   "cell_type": "code",
   "execution_count": null,
   "metadata": {
    "collapsed": true
   },
   "outputs": [],
   "source": [
    "# Write Step 6 code here"
   ]
  },
  {
   "cell_type": "code",
   "execution_count": null,
   "metadata": {
    "collapsed": true
   },
   "outputs": [],
   "source": []
  },
  {
   "cell_type": "code",
   "execution_count": null,
   "metadata": {
    "collapsed": true
   },
   "outputs": [],
   "source": []
  },
  {
   "cell_type": "code",
   "execution_count": null,
   "metadata": {
    "collapsed": true
   },
   "outputs": [],
   "source": []
  },
  {
   "cell_type": "code",
   "execution_count": null,
   "metadata": {
    "collapsed": true
   },
   "outputs": [],
   "source": []
  },
  {
   "cell_type": "code",
   "execution_count": null,
   "metadata": {
    "collapsed": true
   },
   "outputs": [],
   "source": []
  },
  {
   "cell_type": "markdown",
   "metadata": {},
   "source": [
    "## Pythagorean Theorem Challenge Solution"
   ]
  },
  {
   "cell_type": "code",
   "execution_count": null,
   "metadata": {
    "collapsed": true
   },
   "outputs": [],
   "source": [
    "# Get user input for Side A\n",
    "inputSideA = input(\"Enter length of side A \")\n",
    "\n",
    "print(\"Side A: \" + str(inputSideA))"
   ]
  },
  {
   "cell_type": "code",
   "execution_count": null,
   "metadata": {
    "collapsed": true
   },
   "outputs": [],
   "source": [
    "# Get user input for hypotenuse\n",
    "inputHypotenuse = input(\"Enter length of the hypotenuse \")\n",
    "\n",
    "print(\"Hypotenuse: \" + str(inputHypotenuse))"
   ]
  },
  {
   "cell_type": "code",
   "execution_count": null,
   "metadata": {
    "collapsed": true
   },
   "outputs": [],
   "source": [
    "# Values entered through user input are stored as strings (String data type).  We need to\n",
    "# convert sides' lengths from String to float\n",
    "sideA = float(inputSideA)\n",
    "hypotenuse = float(inputHypotenuse)"
   ]
  },
  {
   "cell_type": "code",
   "execution_count": null,
   "metadata": {
    "collapsed": true
   },
   "outputs": [],
   "source": [
    "# Calculate square of side A\n",
    "squareSideA = sideA ** 2\n",
    "\n",
    "# Calculate square of hypotenuse\n",
    "squareHypotenuse = hypotenuse ** 2"
   ]
  },
  {
   "cell_type": "code",
   "execution_count": null,
   "metadata": {
    "collapsed": true
   },
   "outputs": [],
   "source": [
    "# Use Pythagorean theorem to calculate the length of the triangle's other adjacent side.\n",
    "# We know that Math.pow(hypotenuse, 2) = Math.pow(sideA, 2) + Math.pow(sideB, 2)\n",
    "# Therefore Math.pow(sideB, 2) = Math.pow(hypotenuse, 2) - Math.pow(sideA, 2)\n",
    "# Finally, we take a square root of both sides:\n",
    "#sideB = Math.sqrt(Math.pow(hypotenuse, 2) - Math.pow(sideA, 2))\n",
    "\n",
    "sideB = math.sqrt(squareHypotenuse - squareSideA)\n"
   ]
  },
  {
   "cell_type": "code",
   "execution_count": null,
   "metadata": {
    "collapsed": true
   },
   "outputs": [],
   "source": [
    "# Print out the results\n",
    "print(\"Given that side A is \" + str(sideA) + \" and the hypotenuse is \" + str(hypotenuse) + \", side B is \" + str(sideB))"
   ]
  },
  {
   "cell_type": "code",
   "execution_count": null,
   "metadata": {
    "collapsed": true
   },
   "outputs": [],
   "source": []
  },
  {
   "cell_type": "code",
   "execution_count": null,
   "metadata": {
    "collapsed": true
   },
   "outputs": [],
   "source": []
  },
  {
   "cell_type": "code",
   "execution_count": null,
   "metadata": {
    "collapsed": true
   },
   "outputs": [],
   "source": []
  },
  {
   "cell_type": "markdown",
   "metadata": {},
   "source": [
    "# Control Flow Statements"
   ]
  },
  {
   "cell_type": "markdown",
   "metadata": {},
   "source": [
    "** The \"_if_\" statement**"
   ]
  },
  {
   "cell_type": "code",
   "execution_count": null,
   "metadata": {
    "collapsed": true
   },
   "outputs": [],
   "source": [
    "# Pay close attention to the equal sign (=)\n",
    "# When we use the equal sign to assign a value to a variable, Python treats it as an \"ASSIGNMENT\" operator\n",
    "# In the line of code below, we are assigning the value of \"True\" to the boolean variable \"condition\"\n",
    "condition = True\n",
    "\n",
    "# When we need to compare two values, we have to use a double equal sign (==), which is a \"COMPARISON\" operator\n",
    "# In the line of code below we compare the value already stored in the boolean varialbe \"condition\" to \"True\"\n",
    "if condition == True:\n",
    "    print(\"The code inside if block gets executed\")"
   ]
  },
  {
   "cell_type": "markdown",
   "metadata": {},
   "source": [
    "**Chained \"_if_\" statements**"
   ]
  },
  {
   "cell_type": "code",
   "execution_count": null,
   "metadata": {
    "collapsed": true
   },
   "outputs": [],
   "source": [
    "# In this example, we evaluate multiple \"if\" statements and execute them sequentially\n",
    "condition = True\n",
    "\n",
    "if condition == True:\n",
    "    print(\"The code inside if block gets executed\")\n",
    "    \n",
    "if condition == False:\n",
    "    print(\"The code inside this block will not be executed\")\n"
   ]
  },
  {
   "cell_type": "code",
   "execution_count": null,
   "metadata": {
    "collapsed": true
   },
   "outputs": [],
   "source": [
    "# Let's try the same thing, but this time with user input\n",
    "\n",
    "user_input_str = input(\"Please enter a number: \\n\")\n",
    "user_input_num = int(user_input_str)\n",
    "if user_input_num > 10:\n",
    "    print(\"You entered number \" + str(user_input_num) + \". That number is greater than 10\")\n",
    "\n",
    "if user_input_num < 10:\n",
    "    print(\"You entered number \" + str(user_input_num) + \". That number is less than 10\")\n",
    "    \n",
    "\n",
    "# Question 1: What is wrong with the code above?\n",
    "\n",
    "# Question 2: without knowing anything else about conditional \n",
    "# statements in Python, can you guess why the code above is ineficient?\n",
    "\n",
    "\n"
   ]
  },
  {
   "cell_type": "code",
   "execution_count": null,
   "metadata": {
    "collapsed": true
   },
   "outputs": [],
   "source": []
  },
  {
   "cell_type": "code",
   "execution_count": null,
   "metadata": {
    "collapsed": true
   },
   "outputs": [],
   "source": []
  },
  {
   "cell_type": "code",
   "execution_count": null,
   "metadata": {
    "collapsed": true
   },
   "outputs": [],
   "source": [
    "# Let's fix this\n",
    "user_input_str = input(\"Please enter a number: \\n\")\n",
    "user_input_num = int(user_input_str)\n",
    "if user_input_num > 10:\n",
    "    print(\"You entered number \" + str(user_input_num) + \". That number is greater than 10\")\n",
    "else:\n",
    "    print(\"You entered number \" + str(user_input_num) + \". That number is less than or equal to 10\")"
   ]
  },
  {
   "cell_type": "code",
   "execution_count": null,
   "metadata": {
    "collapsed": true
   },
   "outputs": [],
   "source": [
    "# What if we want more than two conditions?\n",
    "\n",
    "user_input_str = input(\"Please enter a number: \\n\")\n",
    "user_input_num = int(user_input_str)\n",
    "if user_input_num > 10:\n",
    "    print(\"You entered number \" + str(user_input_num) + \". That number is greater than 10\")\n",
    "elif user_input_num == 10:\n",
    "    print(\"You entered number \" + str(user_input_num) + \". That number equals to 10\")\n",
    "else:\n",
    "    print(\"You entered number \" + str(user_input_num) + \". That number is less than 10\")\n",
    "    \n"
   ]
  },
  {
   "cell_type": "markdown",
   "metadata": {},
   "source": [
    "### Exercise\n",
    "\n",
    "**Lucky Number**\n",
    "\n",
    "Many cultures consider number 7 to be a lucky number.  This program takes a numeric\n",
    "input from a user and checks if the input is a \"lucky\" number."
   ]
  },
  {
   "cell_type": "code",
   "execution_count": null,
   "metadata": {
    "collapsed": true
   },
   "outputs": [],
   "source": [
    "# We will declare our lucky number 7 as a variable\n",
    "LUCKY_NUMBER = 7"
   ]
  },
  {
   "cell_type": "code",
   "execution_count": null,
   "metadata": {
    "collapsed": true
   },
   "outputs": [],
   "source": [
    "# Ask user to input a number.  Note that even though the user will enter a number,\n",
    "# Python will treat the input as a string\n",
    "user_input = input(\"Please enter a number:\")\n",
    "\n",
    "print(\"You entered: \" + user_input)"
   ]
  },
  {
   "cell_type": "code",
   "execution_count": null,
   "metadata": {
    "collapsed": true
   },
   "outputs": [],
   "source": [
    "# Now we need to convert the input string to a number.  In this case, we will convert the\n",
    "# input string to an integer\n",
    "num = int(user_input)"
   ]
  },
  {
   "cell_type": "code",
   "execution_count": null,
   "metadata": {
    "collapsed": true
   },
   "outputs": [],
   "source": [
    "# Check if the number equals to 7.  Note that we are using a comparison operator\n",
    "# (double-equal sign ==) instead of the assignment operator (single equal sign =)\n",
    "# Also important to note that Python will not concatenate strings with other data types,\n",
    "# such as integers, so we need to cast / convert all non-string types to string during\n",
    "# concatenation\n",
    "if num == LUCKY_NUMBER:\n",
    "    print(\"You entered the lucky number \" + str(LUCKY_NUMBER) + \"!\")\n",
    "else:\n",
    "    print(\"You entered number \" + str(num) + \".  It may be a lucky number for you, but it's not the lucky number \" + str(LUCKY_NUMBER) + \"!\")"
   ]
  },
  {
   "cell_type": "code",
   "execution_count": null,
   "metadata": {
    "collapsed": true
   },
   "outputs": [],
   "source": []
  },
  {
   "cell_type": "code",
   "execution_count": null,
   "metadata": {
    "collapsed": true
   },
   "outputs": [],
   "source": []
  },
  {
   "cell_type": "code",
   "execution_count": null,
   "metadata": {
    "collapsed": true
   },
   "outputs": [],
   "source": []
  },
  {
   "cell_type": "code",
   "execution_count": null,
   "metadata": {
    "collapsed": true
   },
   "outputs": [],
   "source": []
  },
  {
   "cell_type": "code",
   "execution_count": null,
   "metadata": {
    "collapsed": true
   },
   "outputs": [],
   "source": []
  },
  {
   "cell_type": "markdown",
   "metadata": {},
   "source": [
    "**Lucky Number: Challenge 1**\n",
    "\n",
    "Some users will try to submit a blank input.  When user submits input without entering a value, input string will be empty, or equal to a blank string (\"\"). Make sure to validate user inputs"
   ]
  },
  {
   "cell_type": "code",
   "execution_count": null,
   "metadata": {
    "collapsed": true
   },
   "outputs": [],
   "source": [
    "# We will declare our lucky number 7 as a variable\n",
    "LUCKY_NUMBER = 7\n",
    "# Ask user to input a number.  Note that even though the user will enter a number,\n",
    "# Python will treat the input as a string\n",
    "user_input = input(\"Please enter a number:\")\n",
    "\n",
    "print(\"You entered: \" + user_input)"
   ]
  },
  {
   "cell_type": "code",
   "execution_count": null,
   "metadata": {
    "collapsed": true
   },
   "outputs": [],
   "source": [
    "# Write your challenge solution code here\n",
    "# Hint: Python has a built-in function that checks if the \n",
    "# value is numeric.  Use Google to figure out the name of that function \n",
    "# and how to use it."
   ]
  },
  {
   "cell_type": "code",
   "execution_count": null,
   "metadata": {
    "collapsed": true
   },
   "outputs": [],
   "source": []
  },
  {
   "cell_type": "code",
   "execution_count": null,
   "metadata": {
    "collapsed": true
   },
   "outputs": [],
   "source": []
  },
  {
   "cell_type": "code",
   "execution_count": null,
   "metadata": {
    "collapsed": true
   },
   "outputs": [],
   "source": []
  },
  {
   "cell_type": "code",
   "execution_count": null,
   "metadata": {
    "collapsed": true
   },
   "outputs": [],
   "source": []
  },
  {
   "cell_type": "markdown",
   "metadata": {},
   "source": [
    "**Lucky Number: Challenge 1 Solution**"
   ]
  },
  {
   "cell_type": "code",
   "execution_count": null,
   "metadata": {
    "collapsed": true
   },
   "outputs": [],
   "source": [
    "# We will declare our lucky number 7 as a variable\n",
    "LUCKY_NUMBER = 7\n",
    "# Ask user to input a number.  Note that even though the user will enter a number,\n",
    "# Python will treat the input as a string\n",
    "user_input = input(\"Please enter a number:\")\n",
    "\n",
    "print(\"You entered: \" + user_input)"
   ]
  },
  {
   "cell_type": "code",
   "execution_count": null,
   "metadata": {
    "collapsed": true
   },
   "outputs": [],
   "source": [
    "# Python has a built-in function that checks if the value is numeric:\n",
    "if user_input.isdigit():\n",
    "    # Now we need to convert the input string to a number.  \n",
    "    # In this case, we will convert the input string to an integer\n",
    "    num = int(user_input)\n",
    "\n",
    "    # Check if the number equals to 7.  Note that we are using a comparison operator\n",
    "    # (double-equal sign ==) instead of the assignment operator (single equal sign =)\n",
    "    if num == LUCKY_NUMBER:\n",
    "        print(\"You entered the lucky number \" + str(LUCKY_NUMBER) + \"!\")\n",
    "    else:\n",
    "        print(\"You entered number \" + str(num) + \".  It may be a lucky number for you, but it's not the lucky number \" + str(LUCKY_NUMBER) + \"!\")\n",
    "else:\n",
    "    #Display an error message\n",
    "    print(\"Hey, if you want us to tell you your lucky number, you actually have to enter one!\")\n"
   ]
  },
  {
   "cell_type": "code",
   "execution_count": null,
   "metadata": {
    "collapsed": true
   },
   "outputs": [],
   "source": []
  },
  {
   "cell_type": "code",
   "execution_count": null,
   "metadata": {
    "collapsed": true
   },
   "outputs": [],
   "source": []
  },
  {
   "cell_type": "code",
   "execution_count": null,
   "metadata": {
    "collapsed": true
   },
   "outputs": [],
   "source": []
  },
  {
   "cell_type": "markdown",
   "metadata": {},
   "source": [
    "**Lucky Number: Challenge 2**\n",
    "\n",
    "In Italy number **17** is also considered unlucky. The unluckiness of seventeen in Italian culture\n",
    "dates back to the Roman times.  Seventeen in Roman numnerals is XVII, which is an anagram for VIXI,\n",
    "which is Latin for \"I Lived\" and is a common marking on Roman tombstones.\n",
    "Modify the program below to not only check for lucky number 7, but also for unlucky numbers 13 and 17\n",
    "and to display appropriate messages."
   ]
  },
  {
   "cell_type": "code",
   "execution_count": null,
   "metadata": {
    "collapsed": true
   },
   "outputs": [],
   "source": [
    "# We will declare and initialize our lucky number 7 as a variable\n",
    "LUCKY_NUMBER = 7\n",
    "\n",
    "# Declare and initialize unlucky numbers as varialbes\n",
    "UNLUCKY_NUMBER1 = 13\n",
    "UNLUCKY_NUMBER2 = 17"
   ]
  },
  {
   "cell_type": "markdown",
   "metadata": {},
   "source": [
    "**Step 1: **Get user input"
   ]
  },
  {
   "cell_type": "code",
   "execution_count": null,
   "metadata": {
    "collapsed": true
   },
   "outputs": [],
   "source": [
    "# Write Step 1 code here\n"
   ]
  },
  {
   "cell_type": "markdown",
   "metadata": {},
   "source": [
    "**Step 2: **Convert user input to integer"
   ]
  },
  {
   "cell_type": "code",
   "execution_count": null,
   "metadata": {
    "collapsed": true
   },
   "outputs": [],
   "source": [
    "# Write Step 2 code here\n"
   ]
  },
  {
   "cell_type": "markdown",
   "metadata": {},
   "source": [
    "**Step 3: **Check if the number equals to 7 or 13 or 17. Display appropriate messages"
   ]
  },
  {
   "cell_type": "code",
   "execution_count": null,
   "metadata": {
    "collapsed": true
   },
   "outputs": [],
   "source": [
    "# Write Step 3 code here"
   ]
  },
  {
   "cell_type": "code",
   "execution_count": null,
   "metadata": {
    "collapsed": true
   },
   "outputs": [],
   "source": []
  },
  {
   "cell_type": "code",
   "execution_count": null,
   "metadata": {
    "collapsed": true
   },
   "outputs": [],
   "source": []
  },
  {
   "cell_type": "markdown",
   "metadata": {},
   "source": [
    "**Lucky Number: Challenge 2 Solution**"
   ]
  },
  {
   "cell_type": "code",
   "execution_count": null,
   "metadata": {
    "collapsed": true
   },
   "outputs": [],
   "source": [
    "# We will declare and initialize our lucky number 7 as a variable\n",
    "LUCKY_NUMBER = 7\n",
    "\n",
    "# Declare and initialize unlucky numbers as varialbes\n",
    "UNLUCKY_NUMBER1 = 13\n",
    "UNLUCKY_NUMBER2 = 17"
   ]
  },
  {
   "cell_type": "code",
   "execution_count": null,
   "metadata": {
    "collapsed": true
   },
   "outputs": [],
   "source": [
    "# Ask user to input a number.  Note that even though the user will enter a number,\n",
    "# Python will treat the input as a string\n",
    "user_input = input(\"Please enter a number:\")\n",
    "\n",
    "print(\"You entered: \" + user_input)"
   ]
  },
  {
   "cell_type": "code",
   "execution_count": null,
   "metadata": {
    "collapsed": true
   },
   "outputs": [],
   "source": [
    "# Now we need to convert the input string to a number.  In this case, we will convert the\n",
    "# input string to an integer\n",
    "num = int(user_input)"
   ]
  },
  {
   "cell_type": "code",
   "execution_count": null,
   "metadata": {
    "collapsed": true
   },
   "outputs": [],
   "source": [
    "# Check if the number equals to 7.  Note that we are using a comparison operator\n",
    "# (double-equal sign ==) instead of the assignment operator (single equal sign =)\n",
    "if num == LUCKY_NUMBER:\n",
    "    print(\"You entered the lucky number \" + str(LUCKY_NUMBER) + \"!\")\n",
    "elif num == UNLUCKY_NUMBER1 or num == UNLUCKY_NUMBER2:\n",
    "    # Check if the number equals to 13 or 17\n",
    "    print(\"You entered an extremely unlucky number of \" + str(num) + \"! Be more careful with your inputs in the future.\")\n",
    "else:\n",
    "    print(\"You entered number \" + str(num) + \".  It may be a lucky number for you, but it's not the lucky number \" + str(LUCKY_NUMBER) + \"!\")\n"
   ]
  },
  {
   "cell_type": "code",
   "execution_count": null,
   "metadata": {
    "collapsed": true
   },
   "outputs": [],
   "source": []
  },
  {
   "cell_type": "code",
   "execution_count": null,
   "metadata": {
    "collapsed": true
   },
   "outputs": [],
   "source": []
  },
  {
   "cell_type": "markdown",
   "metadata": {},
   "source": [
    "# Lists"
   ]
  },
  {
   "cell_type": "markdown",
   "metadata": {},
   "source": [
    "**Resources:**\n",
    "\n",
    "* https://www.tutorialspoint.com/python/python_lists.htm\n",
    "\n",
    "**List data structure**\n",
    "\n",
    "* A Python list is a sequence of values\n",
    "* Values in a Python list can by of any datatype\n",
    "* Each element of a sequence is assigned a number - its position or index. The first index is zero, the second index is one, and so forth.\n",
    "\n"
   ]
  },
  {
   "cell_type": "code",
   "execution_count": null,
   "metadata": {
    "collapsed": true
   },
   "outputs": [],
   "source": [
    "# Creating Lists\n",
    "list1 = ['apples', 'oranges', 'pears', 'peaches'];\n",
    "list2 = [1, 2, 3, 4, 5];\n",
    "list3 = [\"a\", \"b\", \"c\", \"d\"]\n",
    "# Note that the following list contains mixed data types\n",
    "list4 = [\"1\", \"2\", \"x\", \"y\", \"z\", True] "
   ]
  },
  {
   "cell_type": "code",
   "execution_count": null,
   "metadata": {
    "collapsed": true
   },
   "outputs": [],
   "source": [
    "# Accessing Values in Lists\n",
    "fruits = ['apples', 'oranges', 'pears', 'peaches', 'berries'];\n",
    "print(fruits[0]) # Get the first element of the list\n",
    "print(fruits[0:2]) # Get the first two elements of the list\n",
    "print(fruits[:3]) # Get everything before the element with index 3\n",
    "print(fruits[3:]) # Get everything starting with the element with index 3\n",
    "print(fruits[-1]) # Get the last element of the list"
   ]
  },
  {
   "cell_type": "code",
   "execution_count": null,
   "metadata": {
    "collapsed": true
   },
   "outputs": [],
   "source": [
    "# Updating Lists\n",
    "fruits = ['apples', 'oranges', 'pears', 'peaches', 'berries'];\n",
    "print(\"Value at index 2 is: \" + fruits[2])\n",
    "fruits[2] = 'bananas';\n",
    "print(\"New value at index 2 is : \" + fruits[2])"
   ]
  },
  {
   "cell_type": "code",
   "execution_count": null,
   "metadata": {
    "collapsed": true
   },
   "outputs": [],
   "source": [
    "# Appending to Lists\n",
    "fruits = ['apples', 'oranges', 'pears', 'peaches', 'berries'];\n",
    "print(fruits)\n",
    "fruits.append('bananas')\n",
    "print(fruits)"
   ]
  },
  {
   "cell_type": "code",
   "execution_count": null,
   "metadata": {
    "collapsed": true
   },
   "outputs": [],
   "source": [
    "# Removing Elements from Lists\n",
    "fruits = ['apples', 'oranges', 'pears', 'peaches', 'berries'];\n",
    "print(fruits)\n",
    "del fruits[2];\n",
    "print(fruits)"
   ]
  },
  {
   "cell_type": "code",
   "execution_count": null,
   "metadata": {
    "collapsed": true
   },
   "outputs": [],
   "source": [
    "# Alternatively, you can use the 'remove()' function\n",
    "fruits = ['apples', 'oranges', 'pears', 'peaches', 'berries'];\n",
    "print(fruits)\n",
    "fruits.remove('pears');\n",
    "print(fruits)"
   ]
  },
  {
   "cell_type": "code",
   "execution_count": null,
   "metadata": {
    "collapsed": true
   },
   "outputs": [],
   "source": [
    "# Combining Lists\n",
    "fruits = ['apples', 'oranges', 'pears', 'peaches', 'berries'];\n",
    "vegetables = ['tomatoes', 'cucumbers', 'celery']\n",
    "\n",
    "food = fruits + vegetables\n",
    "print(food)\n"
   ]
  },
  {
   "cell_type": "code",
   "execution_count": null,
   "metadata": {
    "collapsed": true
   },
   "outputs": [],
   "source": [
    "# Sorting Lists\n",
    "fruits = ['apples', 'oranges', 'pears', 'peaches', 'berries'];\n",
    "sorted_fruits = sorted(fruits)\n",
    "print(sorted_fruits)"
   ]
  },
  {
   "cell_type": "markdown",
   "metadata": {},
   "source": [
    "# Dictionaries"
   ]
  },
  {
   "cell_type": "markdown",
   "metadata": {},
   "source": [
    "**Resources:**\n",
    "\n",
    "* https://www.tutorialspoint.com/python/python_dictionary.htm\n",
    "\n",
    "** Dictionary Data Type:**\n",
    "* A dictionary is a collection of items\n",
    "* Each item consists of a key / value pair\n",
    "* The items are separated by commas\n",
    "* Each key is separated from its value by a colon (:)\n",
    "* An empty dictionary without any items is written with just two curly braces: {}.\n",
    "* Keys are unique within a dictionary while values may not be\n",
    "* The values of a dictionary can be of any type, but the keys must be strings or numbers."
   ]
  },
  {
   "cell_type": "code",
   "execution_count": null,
   "metadata": {
    "collapsed": true
   },
   "outputs": [],
   "source": [
    "# Creating a dictionary\n",
    "\n",
    "dict = {\n",
    "    \"John\" : 37,\n",
    "    \"Bob\" : 50,\n",
    "    \"Jane\" : 29,\n",
    "    \"Ann\" : 71\n",
    "}"
   ]
  },
  {
   "cell_type": "code",
   "execution_count": null,
   "metadata": {
    "collapsed": true
   },
   "outputs": [],
   "source": [
    "# Accessing a value from a dictionary by its key\n",
    "print(dict[\"John\"])\n",
    "print(dict[\"Bob\"])\n",
    "print(dict[\"Jane\"])"
   ]
  },
  {
   "cell_type": "code",
   "execution_count": null,
   "metadata": {
    "collapsed": true
   },
   "outputs": [],
   "source": [
    "# Updating Dictionary\n",
    "dict = {\n",
    "    \"John\" : 37,\n",
    "    \"Bob\" : 50,\n",
    "    \"Jane\" : 29,\n",
    "    \"Ann\" : 71\n",
    "}\n",
    "\n",
    "dict[\"John\"] = 38 # Update an item\n",
    "dict[\"Rose\"] = 32 # Add new entry"
   ]
  },
  {
   "cell_type": "code",
   "execution_count": null,
   "metadata": {
    "collapsed": true
   },
   "outputs": [],
   "source": [
    "# Deleting Dictionary Elements\n",
    "dict = {\n",
    "    \"John\" : 37,\n",
    "    \"Bob\" : 50,\n",
    "    \"Jane\" : 29,\n",
    "    \"Ann\" : 71\n",
    "}\n",
    "\n",
    "del dict['John']; # remove entry with key 'John'\n",
    "dict.clear();     # remove all entries in dict\n",
    "del dict ;        # delete entire dictionary"
   ]
  },
  {
   "cell_type": "code",
   "execution_count": null,
   "metadata": {
    "collapsed": true
   },
   "outputs": [],
   "source": [
    "# Lists of dictionaries\n",
    "employees = [\n",
    "    {\n",
    "        \"first_name\" : \"John\",\n",
    "        \"last_name\" : \"Smith\",\n",
    "        \"age\" : 50,\n",
    "        \"has_insurance\" : False\n",
    "    },\n",
    "    {\n",
    "        \"first_name\" : \"Jane\",\n",
    "        \"last_name\" : \"Doe\",\n",
    "        \"age\" : 37,\n",
    "        \"has_insurance\" : True\n",
    "    }\n",
    "]"
   ]
  },
  {
   "cell_type": "markdown",
   "metadata": {},
   "source": [
    "# For Loop"
   ]
  },
  {
   "cell_type": "code",
   "execution_count": null,
   "metadata": {
    "collapsed": true
   },
   "outputs": [],
   "source": [
    "# Iterating through a range of values\n",
    "for i in range(0, 10):\n",
    "    print(i)"
   ]
  },
  {
   "cell_type": "code",
   "execution_count": null,
   "metadata": {
    "collapsed": true
   },
   "outputs": [],
   "source": [
    "# Iterating through a range of values to read from a list\n",
    "fruits = ['apples', 'oranges', 'pears', 'peaches', 'berries'];\n",
    "for i in range(0, len(fruits)):\n",
    "    print(fruits[i])"
   ]
  },
  {
   "cell_type": "code",
   "execution_count": null,
   "metadata": {
    "collapsed": true
   },
   "outputs": [],
   "source": [
    "# Iterating through items in a list\n",
    "fruits = ['apples', 'oranges', 'pears', 'peaches', 'berries'];\n",
    "for item in fruits:\n",
    "    print(item)"
   ]
  },
  {
   "cell_type": "code",
   "execution_count": null,
   "metadata": {
    "collapsed": true
   },
   "outputs": [],
   "source": [
    "# Iterating through a dictionary\n",
    "dict = {\n",
    "    \"John\" : 37,\n",
    "    \"Bob\" : 50,\n",
    "    \"Jane\" : 29,\n",
    "    \"Ann\" : 71\n",
    "}\n",
    "\n",
    "for key, value in dict.items():\n",
    "    print(key, value)"
   ]
  },
  {
   "cell_type": "code",
   "execution_count": null,
   "metadata": {
    "collapsed": true
   },
   "outputs": [],
   "source": [
    "# Iterating through a list of dictionaries\n",
    "employees = [\n",
    "    {\n",
    "        \"first_name\" : \"John\",\n",
    "        \"last_name\" : \"Smith\",\n",
    "        \"age\" : 50,\n",
    "        \"has_insurance\" : False\n",
    "    },\n",
    "    {\n",
    "        \"first_name\" : \"Jane\",\n",
    "        \"last_name\" : \"Doe\",\n",
    "        \"age\" : 37,\n",
    "        \"has_insurance\" : True\n",
    "    }\n",
    "]\n",
    "for employee in employees:\n",
    "    print(\"Employee________________________\")\n",
    "    for key, value in employee.items():\n",
    "        print(key + \": \", value)"
   ]
  },
  {
   "cell_type": "code",
   "execution_count": null,
   "metadata": {
    "collapsed": true
   },
   "outputs": [],
   "source": []
  },
  {
   "cell_type": "markdown",
   "metadata": {},
   "source": [
    "### Exercise:\n",
    "\n",
    "** Shopping List **\n",
    "\n",
    "This program creates a list called groceries and defines two dictionaries, stock and prices. Using these structures, it computes the bill for the list of groceries."
   ]
  },
  {
   "cell_type": "code",
   "execution_count": null,
   "metadata": {
    "collapsed": true
   },
   "outputs": [],
   "source": [
    "# First, create a list called shopping_list that contains the strings \"banana\", \"orange\", and \"apple\"\n",
    "shopping_list = [\"banana\", \"orange\", \"apple\"]"
   ]
  },
  {
   "cell_type": "code",
   "execution_count": null,
   "metadata": {
    "collapsed": true
   },
   "outputs": [],
   "source": [
    "# Next, create the empty prices dictionary\n",
    "prices = {}\n",
    "\n",
    "# We can then add values to the dictionary\n",
    "prices[\"banana\"] = 4\n",
    "prices[\"apple\"] = 2\n",
    "prices[\"orange\"] = 1.5\n",
    "prices[\"pear\"] = 3"
   ]
  },
  {
   "cell_type": "code",
   "execution_count": null,
   "metadata": {
    "collapsed": true
   },
   "outputs": [],
   "source": [
    "# Next, create the stock dictionary\n",
    "# We will use a different method from before and simply create the dictionary all at once\n",
    "# Note that we use commas to separate items and a comma does not appear after the last item in the dictionary\n",
    "# Also note that the dictionary can be declared on one line or multiple\n",
    "stock = {\n",
    "    \"banana\": 6,\n",
    "    \"apple\": 0,\n",
    "    \"orange\": 32,\n",
    "    \"pear\": 15\n",
    "}"
   ]
  },
  {
   "cell_type": "code",
   "execution_count": null,
   "metadata": {
    "collapsed": true
   },
   "outputs": [],
   "source": [
    "# To illustrate how to print out the items in a dictionary along with their associated values, \n",
    "# we can use a loop like the one below\n",
    "for item in prices:\n",
    "    print(item)\n",
    "    print(\"price: \" + str(prices[item]))\n",
    "    print(\"stock: \" + str(stock[item]))"
   ]
  },
  {
   "cell_type": "code",
   "execution_count": null,
   "metadata": {
    "collapsed": true
   },
   "outputs": [],
   "source": [
    "# Now we can compute the bill for the shopping list\n",
    "# We will do this by looping through the items in the list, checking to see if the store has the item in stock,\n",
    "# and adding the price to a variable called grocery_bill\n",
    "# Also, we will update the stock dictionary to reflect any changes in the quantity of a good if it is on the list\n",
    "grocery_bill = 0\n",
    "\n",
    "for item in shopping_list:\n",
    "    if stock[item] > 0:\n",
    "        price = prices[item]\n",
    "        grocery_bill = grocery_bill + price\n",
    "        stock[item] = stock[item] - 1\n",
    "    else:\n",
    "        print(item + \"s are not in stock!\")"
   ]
  },
  {
   "cell_type": "code",
   "execution_count": null,
   "metadata": {
    "collapsed": true
   },
   "outputs": [],
   "source": [
    "# Finally, output the result\n",
    "print(\"Cost of groceries: \" + str(grocery_bill))"
   ]
  },
  {
   "cell_type": "code",
   "execution_count": null,
   "metadata": {
    "collapsed": true
   },
   "outputs": [],
   "source": []
  },
  {
   "cell_type": "markdown",
   "metadata": {},
   "source": [
    "** Shopping List: Challenge 1**\n",
    "\n",
    "Write a loop to determine the value of the store's entire stock. "
   ]
  },
  {
   "cell_type": "code",
   "execution_count": null,
   "metadata": {
    "collapsed": true
   },
   "outputs": [],
   "source": [
    "# Write challenge 1 solution here\n"
   ]
  },
  {
   "cell_type": "code",
   "execution_count": null,
   "metadata": {
    "collapsed": true
   },
   "outputs": [],
   "source": []
  },
  {
   "cell_type": "code",
   "execution_count": null,
   "metadata": {
    "collapsed": true
   },
   "outputs": [],
   "source": []
  },
  {
   "cell_type": "markdown",
   "metadata": {},
   "source": [
    "** Shopping List: Challenge 1 Solution**"
   ]
  },
  {
   "cell_type": "code",
   "execution_count": null,
   "metadata": {
    "collapsed": true
   },
   "outputs": [],
   "source": [
    "# First, create a list called shopping_list that contains the strings \"banana\", \"orange\", and \"apple\"\n",
    "shopping_list = [\"banana\", \"orange\", \"apple\"]"
   ]
  },
  {
   "cell_type": "code",
   "execution_count": null,
   "metadata": {
    "collapsed": true
   },
   "outputs": [],
   "source": [
    "# Next, create the empty prices dictionary\n",
    "prices = {}\n",
    "\n",
    "# We can then add values to the dictionary\n",
    "prices[\"banana\"] = 4\n",
    "prices[\"apple\"] = 2\n",
    "prices[\"orange\"] = 1.5\n",
    "prices[\"pear\"] = 3"
   ]
  },
  {
   "cell_type": "code",
   "execution_count": null,
   "metadata": {
    "collapsed": true
   },
   "outputs": [],
   "source": [
    "# Next, create the stock dictionary\n",
    "# We will use a different method from before and simply create the dictionary all at once\n",
    "# Note that we use commas to separate items and a comma does not appear after the last item in the dictionary\n",
    "# Also note that the dictionary can be declared on one line or multiple\n",
    "stock = {\n",
    "    \"banana\": 6,\n",
    "    \"apple\": 0,\n",
    "    \"orange\": 32,\n",
    "    \"pear\": 15\n",
    "}"
   ]
  },
  {
   "cell_type": "code",
   "execution_count": null,
   "metadata": {
    "collapsed": true
   },
   "outputs": [],
   "source": [
    "# To illustrate how to print out the items in a dictionary along with their associated values, \n",
    "# we can use a loop like the one below\n",
    "for item in prices:\n",
    "    print(item)\n",
    "    print(\"price: \" + str(prices[item]))\n",
    "    print(\"stock: \" + str(stock[item]))"
   ]
  },
  {
   "cell_type": "code",
   "execution_count": null,
   "metadata": {
    "collapsed": true
   },
   "outputs": [],
   "source": [
    "# Now we can compute the bill for the shopping list\n",
    "# We will do this by looping through the items in the list, checking to see if the store has the item in stock,\n",
    "# and adding the price to a variable called grocery_bill\n",
    "# Also, we will update the stock dictionary to reflect any changes in the quantity of a good if it is on the list\n",
    "grocery_bill = 0\n",
    "\n",
    "for item in shopping_list:\n",
    "    if stock[item] > 0:\n",
    "        price = prices[item]\n",
    "        grocery_bill = grocery_bill + price\n",
    "        stock[item] = stock[item] - 1\n",
    "    else:\n",
    "        print(item + \"s are not in stock!\")\n",
    "        \n",
    "print(\"Your total bill is\", grocery_bill)"
   ]
  },
  {
   "cell_type": "code",
   "execution_count": null,
   "metadata": {
    "collapsed": true
   },
   "outputs": [],
   "source": [
    "# Challenge solution\n",
    "total_stock = 0\n",
    "\n",
    "for item in stock:\n",
    "    total_stock = total_stock + stock[item] * prices[item]\n",
    "    \n",
    "print(\"The value of the store's stock is \" + str(total_stock))"
   ]
  },
  {
   "cell_type": "markdown",
   "metadata": {
    "collapsed": true
   },
   "source": [
    "# Functions\n",
    "\n",
    "[https://www.tutorialspoint.com/python/python_functions.htm]\n",
    "\n",
    "* A function is a block of organized, reusable code that is used to perform a single, related action. \n",
    "* Functions provide better modularity for your application and a high degree of code reusing.\n",
    "\n",
    "### Defining a Function\n",
    "\n",
    "* Function blocks begin with the keyword _def_ followed by the function name and parentheses _(  )_.\n",
    "* Any input parameters or arguments should be placed within these parentheses. You can also define parameters inside these parentheses.\n",
    "* The code block within every function starts with a colon (:) and is indented.\n",
    "* The statement _return [expression]_ exits a function, optionally passing back an expression to the caller. A return statement with no arguments is the same as return None.\n",
    "\n",
    "### Syntax\n",
    "def functionname( parameters ):\n",
    "\n",
    "    function code\n",
    "    more code\n",
    "    even more code\n",
    "\n",
    "    return [expression]\n"
   ]
  },
  {
   "cell_type": "code",
   "execution_count": 4,
   "metadata": {
    "collapsed": true
   },
   "outputs": [],
   "source": [
    "# Function name: add_two_numbers\n",
    "# Parameter(s): num1, num2\n",
    "# Description: This function adds two numbers\n",
    "# Return: This function returns a sum of two numbers\n",
    "def add_two_numbers(num1, num2):\n",
    "    sum_of_two_numbers = num1 + num2\n",
    "    return sum_of_two_numbers"
   ]
  },
  {
   "cell_type": "code",
   "execution_count": 5,
   "metadata": {},
   "outputs": [
    {
     "name": "stdout",
     "output_type": "stream",
     "text": [
      "12\n"
     ]
    }
   ],
   "source": [
    "# Calling a function\n",
    "result = add_two_numbers(5, 7)\n",
    "print(result)"
   ]
  },
  {
   "cell_type": "markdown",
   "metadata": {
    "collapsed": true
   },
   "source": [
    "# Reading Text Files\n",
    "\n",
    "## Working With CSV Files\n",
    "\n",
    "CSV files are used to store a large number of variables – or data. They are incredibly simplified spreadsheets – think Excel – only the content is stored in plaintext.\n",
    "\n",
    "And the CSV module is a built-in function that allows Python to parse these types of files."
   ]
  },
  {
   "cell_type": "code",
   "execution_count": null,
   "metadata": {
    "collapsed": true
   },
   "outputs": [],
   "source": []
  }
 ],
 "metadata": {
  "kernelspec": {
   "display_name": "Python 3",
   "language": "python",
   "name": "python3"
  },
  "language_info": {
   "codemirror_mode": {
    "name": "ipython",
    "version": 3
   },
   "file_extension": ".py",
   "mimetype": "text/x-python",
   "name": "python",
   "nbconvert_exporter": "python",
   "pygments_lexer": "ipython3",
   "version": "3.6.3"
  }
 },
 "nbformat": 4,
 "nbformat_minor": 2
}

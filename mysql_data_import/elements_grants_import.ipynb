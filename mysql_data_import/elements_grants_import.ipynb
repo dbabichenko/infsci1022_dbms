{
 "cells": [
  {
   "cell_type": "code",
   "execution_count": null,
   "metadata": {
    "collapsed": true
   },
   "outputs": [],
   "source": [
    "# https://anaconda.org/ijstokes/sql-server-pyodbc-anaconda-demonstration/notebook"
   ]
  },
  {
   "cell_type": "code",
   "execution_count": 1,
   "metadata": {
    "collapsed": true
   },
   "outputs": [],
   "source": [
    "import pyodbc\n",
    "import pymssql\n",
    "import pymysql"
   ]
  },
  {
   "cell_type": "code",
   "execution_count": 2,
   "metadata": {
    "collapsed": true
   },
   "outputs": [],
   "source": [
    "dbhost = 'localhost'\n",
    "dbport = 3306\n",
    "dbuser = 'root'\n",
    "dbpasswd = ''\n",
    "dbname = 'grapevine'"
   ]
  },
  {
   "cell_type": "code",
   "execution_count": 7,
   "metadata": {
    "collapsed": true
   },
   "outputs": [],
   "source": [
    "sql = \"SELECT  \"\n",
    "sql = sql + \"[ID] as id \"\n",
    "sql = sql + \"      ,[funder-name] as funder_name \"\n",
    "sql = sql + \"      ,[title] \"\n",
    "sql = sql + \"      ,[Localised Currency Symbol] as currency_symbol \"\n",
    "sql = sql + \"      ,isnull([amount Value], 0) as amount \"\n",
    "sql = sql + \"      ,[funder-reference] as funder_reference \"\n",
    "sql = sql + \"      ,[description] as description \"\n",
    "sql = sql + \"      ,[User Grant Relationship] as user_grant_relationship \"\n",
    "sql = sql + \"      ,[abstract] as abstract \"\n",
    "sql = sql + \"      ,[Reporting Date 1] as reporting_date_1 \"\n",
    "sql = sql + \"      ,[Reporting Date 2] as reporting_date_2 \"\n",
    "sql = sql + \"      ,[First Name] as first_name \"\n",
    "sql = sql + \"      ,[Last Name] as last_name \"\n",
    "sql = sql + \"      ,[Proprietary ID] as proprietary_id \"\n",
    "sql = sql + \"      ,[Email] as email \"\n",
    "sql = sql + \"      ,[Computed Title] as computed_title \"\n",
    "sql = sql + \"      ,[status] \"\n",
    "sql = sql + \"  FROM [dbo].[sci_grants] \"\n"
   ]
  },
  {
   "cell_type": "code",
   "execution_count": 8,
   "metadata": {
    "collapsed": true
   },
   "outputs": [],
   "source": [
    "conn_mssql = pymssql.connect(server='elemrs-prod-01.cssd.pitt.edu', user='scigrapevine', password='6kop_jjk5ogoK9YbdS3I', database='elements-prod-reporting')  "
   ]
  },
  {
   "cell_type": "code",
   "execution_count": 9,
   "metadata": {
    "collapsed": true
   },
   "outputs": [],
   "source": [
    "in_sql = \"INSERT INTO elements_grants \"\n",
    "in_sql = in_sql + \"(`id`,`funder_name`,`title`,`currency_symbol`,`amount`,`funder_reference`,`description`, \"\n",
    "in_sql = in_sql + \"`user_grant_relationship`,`abstract`,`reporting_date_1`,`reporting_date_2`,`first_name`, \"\n",
    "in_sql = in_sql + \"`last_name`,`proprietary_id`,`email`,`computed_title`,`status`) \"\n",
    "in_sql = in_sql + \"VALUES (%s,%s,%s,%s,%s,%s,%s,%s,%s,%s,%s,%s,%s,%s,%s,%s,%s) \"\n"
   ]
  },
  {
   "cell_type": "code",
   "execution_count": 12,
   "metadata": {
    "collapsed": true
   },
   "outputs": [],
   "source": [
    "conn_mysql = pymysql.connect(host=dbhost, port=dbport, user=dbuser, passwd=dbpasswd, db=dbname)\n",
    "conn_mysql.autocommit(1)\n",
    "cursor_mysql = conn_mysql.cursor()\n",
    "\n",
    "cursor_mssql = conn_mssql.cursor()  \n",
    "cursor_mssql.execute(sql)  \n",
    "row = cursor_mssql.fetchone()  \n",
    "while row: \n",
    "    params = []\n",
    "    for i in range(0, len(row)):\n",
    "        params.append(str(row[i]))\n",
    "    \n",
    "    #print(str(row[0]) + \" \" + str(row[1]) + \" \" + str(row[2]))\n",
    "    cursor_mysql.execute(in_sql, params)\n",
    "    \n",
    "    row = cursor_mssql.fetchone()  \n",
    "    \n",
    "    \n",
    "\n",
    "    "
   ]
  },
  {
   "cell_type": "code",
   "execution_count": null,
   "metadata": {
    "collapsed": true
   },
   "outputs": [],
   "source": []
  }
 ],
 "metadata": {
  "kernelspec": {
   "display_name": "Python 3",
   "language": "python",
   "name": "python3"
  },
  "language_info": {
   "codemirror_mode": {
    "name": "ipython",
    "version": 3
   },
   "file_extension": ".py",
   "mimetype": "text/x-python",
   "name": "python",
   "nbconvert_exporter": "python",
   "pygments_lexer": "ipython3",
   "version": "3.6.3"
  }
 },
 "nbformat": 4,
 "nbformat_minor": 2
}
